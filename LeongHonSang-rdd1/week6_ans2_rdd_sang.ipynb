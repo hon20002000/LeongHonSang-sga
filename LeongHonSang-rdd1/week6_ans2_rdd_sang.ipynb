{
 "cells": [
  {
   "cell_type": "code",
   "execution_count": 1,
   "metadata": {
    "collapsed": true
   },
   "outputs": [],
   "source": [
    "from pyspark import SparkContext, SparkConf\n",
    "import os\n",
    "from pyspark import SparkContext\n",
    "from pyspark.sql import SQLContext\n",
    "from pyspark.ml.classification import DecisionTreeClassifier\n",
    "from pyspark.ml.evaluation import MulticlassClassificationEvaluator\n",
    "from pyspark.ml.feature import VectorAssembler\n",
    "import pandas as pd "
   ]
  },
  {
   "cell_type": "code",
   "execution_count": 2,
   "metadata": {
    "collapsed": true
   },
   "outputs": [],
   "source": [
    "from pyspark.sql import SparkSession\n",
    "spark = SparkSession.builder.master(\"local[*]\").getOrCreate()\n",
    "\n",
    "from pyspark.sql import SparkSession\n",
    "from pyspark import SparkContext, SparkConf\n",
    "\n",
    "spark = SparkSession \\\n",
    "    .builder \\\n",
    "    .appName(\"Python Spark SQL basic example\") \\\n",
    "    .config(\"spark.some.config.option\", \"some-value\") \\\n",
    "    .getOrCreate()"
   ]
  },
  {
   "cell_type": "code",
   "execution_count": 3,
   "metadata": {
    "collapsed": true
   },
   "outputs": [],
   "source": [
    "path = '/data/lsml/sga/clickstream.csv'\n",
    "df = spark.read.option(\"delimiter\", \"\\t\").option(\"header\", \"true\").csv(path)"
   ]
  },
  {
   "cell_type": "code",
   "execution_count": 4,
   "metadata": {
    "collapsed": false
   },
   "outputs": [
    {
     "data": {
      "text/plain": [
       "[Row(user_id=u'562', session_id=u'507', event_type=u'page', event_page=u'main', timestamp=u'1620494781'),\n",
       " Row(user_id=u'562', session_id=u'507', event_type=u'event', event_page=u'main', timestamp=u'1620494788'),\n",
       " Row(user_id=u'562', session_id=u'507', event_type=u'event', event_page=u'main', timestamp=u'1620494798'),\n",
       " Row(user_id=u'562', session_id=u'507', event_type=u'event', event_page=u'main', timestamp=u'1620494801'),\n",
       " Row(user_id=u'562', session_id=u'507', event_type=u'wNaxLlerrorU', event_page=u'main', timestamp=u'1620494808')]"
      ]
     },
     "execution_count": 4,
     "metadata": {},
     "output_type": "execute_result"
    }
   ],
   "source": [
    "df.take(5)"
   ]
  },
  {
   "cell_type": "code",
   "execution_count": 11,
   "metadata": {
    "collapsed": false
   },
   "outputs": [],
   "source": [
    "from pyspark.sql import Row\n",
    "\n",
    "def check_error(row):\n",
    "    if 'ERROR' in str(row[2]).upper():\n",
    "        return [row[0], row[1], u'page', u'None', row[4]]\n",
    "    return [row[i] for i in range(5)]"
   ]
  },
  {
   "cell_type": "code",
   "execution_count": 12,
   "metadata": {
    "collapsed": false
   },
   "outputs": [],
   "source": [
    "df_err = df.rdd.map(lambda row: check_error(row))"
   ]
  },
  {
   "cell_type": "code",
   "execution_count": 13,
   "metadata": {
    "collapsed": false
   },
   "outputs": [
    {
     "data": {
      "text/plain": [
       "[[u'562', u'507', u'page', u'main', u'1620494781'],\n",
       " [u'562', u'507', u'event', u'main', u'1620494788'],\n",
       " [u'562', u'507', u'event', u'main', u'1620494798'],\n",
       " [u'562', u'507', u'event', u'main', u'1620494801'],\n",
       " [u'562', u'507', u'page', u'None', u'1620494808'],\n",
       " [u'562', u'507', u'event', u'main', u'1620494808'],\n",
       " [u'562', u'507', u'event', u'main', u'1620494808'],\n",
       " [u'562', u'507', u'event', u'main', u'1620494814']]"
      ]
     },
     "execution_count": 13,
     "metadata": {},
     "output_type": "execute_result"
    }
   ],
   "source": [
    "df_err.take(8)"
   ]
  },
  {
   "cell_type": "code",
   "execution_count": 14,
   "metadata": {
    "collapsed": false
   },
   "outputs": [],
   "source": [
    "df3 = df_err.map(lambda row: [row[0] + ', '+ row[1] + ', '+ row[2], row[3]]).reduceByKey(lambda a, b: a + '-' + b)"
   ]
  },
  {
   "cell_type": "code",
   "execution_count": 15,
   "metadata": {
    "collapsed": false,
    "scrolled": false
   },
   "outputs": [
    {
     "data": {
      "text/plain": [
       "[(u'146, 1055, page',\n",
       "  u'main-bonus-news-bonus-main-family-news-digital-family-news-digital-news'),\n",
       " (u'934, 751, event',\n",
       "  u'bonus-news-news-tariffs-family-family-family-family-family-archive-archive-archive-archive-tariffs-tariffs-tariffs-tariffs-tariffs-tariffs-news-news-news-digital-bonus-bonus-bonus-bonus-bonus-tariffs-tariffs-digital-digital-digital-tariffs-tariffs-spravka-spravka-tariffs-tariffs-archive-archive'),\n",
       " (u'442, 658, page',\n",
       "  u'main-news-archive-spravka-family-bonus-digital-tariffs-bonus-news-tariffs-digital-news-digital'),\n",
       " (u'22, 1187, page', u'main-spravka'),\n",
       " (u'215, 2156, page', u'main-bonus-news-family-main-archive-bonus')]"
      ]
     },
     "execution_count": 15,
     "metadata": {},
     "output_type": "execute_result"
    }
   ],
   "source": [
    "df3.take(5)"
   ]
  },
  {
   "cell_type": "code",
   "execution_count": 16,
   "metadata": {
    "collapsed": false
   },
   "outputs": [],
   "source": [
    "def cut_route(row):\n",
    "    head = ''\n",
    "    route_list = []\n",
    "    for i, v in enumerate(str(row[1]).split('-')):\n",
    "        if v == 'None':\n",
    "            break\n",
    "        elif head != v:\n",
    "            route_list.append(v)\n",
    "        head = v\n",
    "    return [row[0], '-'.join(route_list)]"
   ]
  },
  {
   "cell_type": "code",
   "execution_count": 17,
   "metadata": {
    "collapsed": false
   },
   "outputs": [],
   "source": [
    "df4 = df3.map(lambda row: cut_route(row))"
   ]
  },
  {
   "cell_type": "code",
   "execution_count": 18,
   "metadata": {
    "collapsed": false,
    "scrolled": true
   },
   "outputs": [
    {
     "data": {
      "text/plain": [
       "[[u'146, 1055, page',\n",
       "  'main-bonus-news-bonus-main-family-news-digital-family-news-digital-news'],\n",
       " [u'934, 751, event',\n",
       "  'bonus-news-tariffs-family-archive-tariffs-news-digital-bonus-tariffs-digital-tariffs-spravka-tariffs-archive'],\n",
       " [u'442, 658, page',\n",
       "  'main-news-archive-spravka-family-bonus-digital-tariffs-bonus-news-tariffs-digital-news-digital'],\n",
       " [u'22, 1187, page', 'main-spravka'],\n",
       " [u'215, 2156, page', 'main-bonus-news-family-main-archive-bonus']]"
      ]
     },
     "execution_count": 18,
     "metadata": {},
     "output_type": "execute_result"
    }
   ],
   "source": [
    "df4.take(5)"
   ]
  },
  {
   "cell_type": "code",
   "execution_count": 19,
   "metadata": {
    "collapsed": true
   },
   "outputs": [],
   "source": [
    "def count_page_route(row):\n",
    "    if 'page' in str(row[0]):\n",
    "        return [row[1], 1]\n",
    "    else:\n",
    "        return [row[1], 0]"
   ]
  },
  {
   "cell_type": "code",
   "execution_count": 20,
   "metadata": {
    "collapsed": false
   },
   "outputs": [],
   "source": [
    "df5 = df4.map(lambda row: count_page_route(row))"
   ]
  },
  {
   "cell_type": "code",
   "execution_count": 21,
   "metadata": {
    "collapsed": false
   },
   "outputs": [
    {
     "data": {
      "text/plain": [
       "[['main-bonus-news-bonus-main-family-news-digital-family-news-digital-news',\n",
       "  1],\n",
       " ['bonus-news-tariffs-family-archive-tariffs-news-digital-bonus-tariffs-digital-tariffs-spravka-tariffs-archive',\n",
       "  0],\n",
       " ['main-news-archive-spravka-family-bonus-digital-tariffs-bonus-news-tariffs-digital-news-digital',\n",
       "  1],\n",
       " ['main-spravka', 1],\n",
       " ['main-bonus-news-family-main-archive-bonus', 1],\n",
       " ['main-tariffs-bonus-archive-digital-archive-family-digital-bonus', 0],\n",
       " ['archive-news-family-news-tariffs-archive', 0],\n",
       " ['main', 1],\n",
       " ['family', 0],\n",
       " ['digital-tariffs', 0]]"
      ]
     },
     "execution_count": 21,
     "metadata": {},
     "output_type": "execute_result"
    }
   ],
   "source": [
    "df5.take(10)"
   ]
  },
  {
   "cell_type": "code",
   "execution_count": 22,
   "metadata": {
    "collapsed": false
   },
   "outputs": [],
   "source": [
    "df6 = df5.reduceByKey(lambda a, b: a + b).sortBy(lambda row: row[1], ascending=False)"
   ]
  },
  {
   "cell_type": "code",
   "execution_count": 23,
   "metadata": {
    "collapsed": false
   },
   "outputs": [
    {
     "data": {
      "text/plain": [
       "[('main', 39756),\n",
       " ('main-tariffs', 6613),\n",
       " ('main-news', 6350),\n",
       " ('main-archive', 5928),\n",
       " ('main-family', 4914),\n",
       " ('main-digital', 4282),\n",
       " ('main-bonus', 3534),\n",
       " ('main-tariffs-news', 1202),\n",
       " ('main-news-tariffs', 1148),\n",
       " ('main-tariffs-archive', 1050),\n",
       " ('main-news-archive', 1026),\n",
       " ('main-archive-tariffs', 1011),\n",
       " ('main-archive-news', 1008),\n",
       " ('main-news-family', 931),\n",
       " ('main-family-tariffs', 929),\n",
       " ('main-tariffs-family', 923),\n",
       " ('main-family-news', 892),\n",
       " ('main-archive-family', 826),\n",
       " ('main-news-digital', 805),\n",
       " ('main-tariffs-main', 790),\n",
       " ('main-family-archive', 780),\n",
       " ('main-tariffs-digital', 760),\n",
       " ('main-digital-news', 756),\n",
       " ('main-digital-tariffs', 731),\n",
       " ('main-archive-digital', 725),\n",
       " ('main-spravka', 714),\n",
       " ('main-news-main', 701),\n",
       " ('main-digital-archive', 688),\n",
       " ('main-tariffs-bonus', 673),\n",
       " ('main-archive-main', 630)]"
      ]
     },
     "execution_count": 23,
     "metadata": {},
     "output_type": "execute_result"
    }
   ],
   "source": [
    "df6.take(30)"
   ]
  },
  {
   "cell_type": "code",
   "execution_count": null,
   "metadata": {
    "collapsed": true
   },
   "outputs": [],
   "source": []
  }
 ],
 "metadata": {
  "kernelspec": {
   "display_name": "Python 2",
   "language": "python",
   "name": "python2"
  },
  "language_info": {
   "codemirror_mode": {
    "name": "ipython",
    "version": 2
   },
   "file_extension": ".py",
   "mimetype": "text/x-python",
   "name": "python",
   "nbconvert_exporter": "python",
   "pygments_lexer": "ipython2",
   "version": "2.7.11"
  }
 },
 "nbformat": 4,
 "nbformat_minor": 2
}
