{
 "cells": [
  {
   "cell_type": "code",
   "execution_count": 4,
   "id": "1f1b98fd",
   "metadata": {},
   "outputs": [],
   "source": [
    "hive_sql = '''\n",
    "with err_tbl as\n",
    "(select user_id, session_id, min(timestamp) as err_time from clickstream\n",
    "where upper(event_type) like '%ERROR%'\n",
    "group by user_id, session_id),\n",
    "cs as (select * from clickstream),\n",
    "merge_tbl as\n",
    "(select cs.*, err_tbl.err_time from cs\n",
    "left join err_tbl \n",
    "on err_tbl.user_id = cs.user_id and err_tbl.session_id = cs.session_id),\n",
    "clean_tbl as \n",
    "(select * from merge_tbl\n",
    "where merge_tbl.timestamp < err_time or merge_tbl.err_time is null),\n",
    "clean_tbl2 as \n",
    "(select * from clean_tbl\n",
    "where event_type = 'page'),\n",
    "final_tbl as(\n",
    "select DISTINCT * from clean_tbl2\n",
    "order by clean_tbl2.user_id, clean_tbl2.session_id, clean_tbl2.timestamp),\n",
    "path_tbl as \n",
    "(select user_id, session_id, concat_ws('-', COLLECT_LIST(event_page)) as route from final_tbl\n",
    "group by user_id, session_id)\n",
    "select route, count(*) as count from path_tbl\n",
    "group by route order by count desc limit 30;\n",
    "'''"
   ]
  },
  {
   "cell_type": "code",
   "execution_count": 1,
   "id": "1e2917fb",
   "metadata": {},
   "outputs": [],
   "source": [
    "with open('week6_ans1_hive_sang_take30.txt', 'r') as f:\n",
    "    ans = f.read()"
   ]
  },
  {
   "cell_type": "code",
   "execution_count": 3,
   "id": "1677d3ef",
   "metadata": {},
   "outputs": [
    {
     "name": "stdout",
     "output_type": "stream",
     "text": [
      "main\t39256\n",
      "main-tariffs\t6536\n",
      "main-news\t6273\n",
      "main-archive\t5843\n",
      "main-family\t4861\n",
      "main-digital\t4223\n",
      "main-bonus\t3494\n",
      "main-tariffs-news\t1187\n",
      "main-news-tariffs\t1133\n",
      "main-tariffs-archive\t1036\n",
      "main-news-archive\t1000\n",
      "main-archive-news\t998\n",
      "main-archive-tariffs\t996\n",
      "main-family-tariffs\t921\n",
      "main-news-family\t918\n",
      "main-tariffs-family\t917\n",
      "main-family-news\t881\n",
      "main-archive-family\t816\n",
      "main-news-digital\t796\n",
      "main-family-archive\t774\n",
      "main-tariffs-main\t761\n",
      "main-tariffs-digital\t751\n",
      "main-digital-news\t749\n",
      "main-digital-tariffs\t722\n",
      "main-archive-digital\t719\n",
      "main-spravka\t708\n",
      "main-news-main\t686\n",
      "main-digital-archive\t683\n",
      "main-tariffs-bonus\t666\n",
      "main-archive-main\t618\n"
     ]
    }
   ],
   "source": [
    "print(ans)"
   ]
  },
  {
   "cell_type": "code",
   "execution_count": null,
   "id": "2315fa89",
   "metadata": {},
   "outputs": [],
   "source": []
  }
 ],
 "metadata": {
  "kernelspec": {
   "display_name": "Python 3.9 (pytorch)",
   "language": "python",
   "name": "pytorch"
  },
  "language_info": {
   "codemirror_mode": {
    "name": "ipython",
    "version": 3
   },
   "file_extension": ".py",
   "mimetype": "text/x-python",
   "name": "python",
   "nbconvert_exporter": "python",
   "pygments_lexer": "ipython3",
   "version": "3.9.13"
  }
 },
 "nbformat": 4,
 "nbformat_minor": 5
}
