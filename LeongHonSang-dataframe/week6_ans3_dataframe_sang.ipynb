{
 "cells": [
  {
   "cell_type": "markdown",
   "metadata": {},
   "source": [
    "# spark dataframe"
   ]
  },
  {
   "cell_type": "code",
   "execution_count": 1,
   "metadata": {
    "collapsed": true
   },
   "outputs": [],
   "source": [
    "from pyspark import SparkContext, SparkConf\n",
    "import os\n",
    "from pyspark import SparkContext\n",
    "from pyspark.sql import SQLContext\n",
    "from pyspark.ml.classification import DecisionTreeClassifier\n",
    "from pyspark.ml.evaluation import MulticlassClassificationEvaluator\n",
    "from pyspark.ml.feature import VectorAssembler\n",
    "import pandas as pd "
   ]
  },
  {
   "cell_type": "code",
   "execution_count": 2,
   "metadata": {
    "collapsed": true
   },
   "outputs": [],
   "source": [
    "from pyspark.sql.functions import concat, col, lit"
   ]
  },
  {
   "cell_type": "code",
   "execution_count": 3,
   "metadata": {
    "collapsed": true
   },
   "outputs": [],
   "source": [
    "from pyspark.sql import SparkSession\n",
    "spark = SparkSession.builder.master(\"local[*]\").getOrCreate()\n",
    "\n",
    "from pyspark.sql import SparkSession\n",
    "from pyspark import SparkContext, SparkConf\n",
    "\n",
    "spark = SparkSession \\\n",
    "    .builder \\\n",
    "    .appName(\"Python Spark SQL basic example\") \\\n",
    "    .config(\"spark.some.config.option\", \"some-value\") \\\n",
    "    .getOrCreate()"
   ]
  },
  {
   "cell_type": "code",
   "execution_count": 4,
   "metadata": {
    "collapsed": true
   },
   "outputs": [],
   "source": [
    "path = '/data/lsml/sga/clickstream.csv'\n",
    "df = spark.read.option(\"delimiter\", \"\\t\").option(\"header\", \"true\").csv(path)"
   ]
  },
  {
   "cell_type": "code",
   "execution_count": 5,
   "metadata": {
    "collapsed": false,
    "scrolled": true
   },
   "outputs": [
    {
     "name": "stdout",
     "output_type": "stream",
     "text": [
      "+-------+----------+------------+----------+----------+\n",
      "|user_id|session_id|  event_type|event_page| timestamp|\n",
      "+-------+----------+------------+----------+----------+\n",
      "|    562|       507|        page|      main|1620494781|\n",
      "|    562|       507|       event|      main|1620494788|\n",
      "|    562|       507|       event|      main|1620494798|\n",
      "|    562|       507|       event|      main|1620494801|\n",
      "|    562|       507|wNaxLlerrorU|      main|1620494808|\n",
      "|    562|       507|       event|      main|1620494808|\n",
      "|    562|       507|       event|      main|1620494808|\n",
      "|    562|       507|       event|      main|1620494814|\n",
      "|    562|       507|        page|    family|1620494820|\n",
      "|    562|       507|       event|    family|1620494828|\n",
      "+-------+----------+------------+----------+----------+\n",
      "only showing top 10 rows\n",
      "\n"
     ]
    }
   ],
   "source": [
    "df.show(10)"
   ]
  },
  {
   "cell_type": "code",
   "execution_count": 6,
   "metadata": {
    "collapsed": false
   },
   "outputs": [],
   "source": [
    "from pyspark.sql.functions import lower"
   ]
  },
  {
   "cell_type": "code",
   "execution_count": 7,
   "metadata": {
    "collapsed": true
   },
   "outputs": [],
   "source": [
    "df2 = df.withColumn('event_type', lower(col('event_type')))"
   ]
  },
  {
   "cell_type": "code",
   "execution_count": 8,
   "metadata": {
    "collapsed": false
   },
   "outputs": [
    {
     "name": "stdout",
     "output_type": "stream",
     "text": [
      "+-------+----------+------------+----------+----------+\n",
      "|user_id|session_id|  event_type|event_page| timestamp|\n",
      "+-------+----------+------------+----------+----------+\n",
      "|    562|       507|        page|      main|1620494781|\n",
      "|    562|       507|       event|      main|1620494788|\n",
      "|    562|       507|       event|      main|1620494798|\n",
      "|    562|       507|       event|      main|1620494801|\n",
      "|    562|       507|wnaxllerroru|      main|1620494808|\n",
      "+-------+----------+------------+----------+----------+\n",
      "only showing top 5 rows\n",
      "\n"
     ]
    }
   ],
   "source": [
    "df2.show(5)"
   ]
  },
  {
   "cell_type": "code",
   "execution_count": 9,
   "metadata": {
    "collapsed": true
   },
   "outputs": [],
   "source": [
    "from pyspark.sql.functions import lower, col, concat, lit, concat_ws\n",
    "from pyspark.sql import functions as F"
   ]
  },
  {
   "cell_type": "code",
   "execution_count": 10,
   "metadata": {
    "collapsed": false
   },
   "outputs": [],
   "source": [
    "df3 = df2.filter(col(\"event_type\").like(\"%error%\"))"
   ]
  },
  {
   "cell_type": "code",
   "execution_count": 11,
   "metadata": {
    "collapsed": false
   },
   "outputs": [],
   "source": [
    "df4 = df3.groupBy(\"user_id\", \"session_id\").agg(F.min(col(\"timestamp\")))"
   ]
  },
  {
   "cell_type": "code",
   "execution_count": 12,
   "metadata": {
    "collapsed": false
   },
   "outputs": [
    {
     "name": "stdout",
     "output_type": "stream",
     "text": [
      "+---+----+--------------+\n",
      "|uid|ssid|min(timestamp)|\n",
      "+---+----+--------------+\n",
      "| 10|2151|    1645007103|\n",
      "|101|1121|    1623323672|\n",
      "|101|1407|    1628754322|\n",
      "|105|1341|    1643382743|\n",
      "+---+----+--------------+\n",
      "only showing top 4 rows\n",
      "\n"
     ]
    }
   ],
   "source": [
    "df4 = df4.withColumnRenamed(\"user_id\", \"uid\").withColumnRenamed(\"session_id\", \"ssid\")\n",
    "df4.show(4)"
   ]
  },
  {
   "cell_type": "code",
   "execution_count": 13,
   "metadata": {
    "collapsed": false
   },
   "outputs": [],
   "source": [
    "cond = [df2.user_id == df4.uid, df2.session_id == df4.ssid]\n",
    "df5 = df2.join(df4, cond, how='left').drop(df4.uid).drop(df4.ssid)"
   ]
  },
  {
   "cell_type": "code",
   "execution_count": 14,
   "metadata": {
    "collapsed": false
   },
   "outputs": [
    {
     "name": "stdout",
     "output_type": "stream",
     "text": [
      "+-------+----------+----------+----------+----------+--------------+\n",
      "|user_id|session_id|event_type|event_page| timestamp|min(timestamp)|\n",
      "+-------+----------+----------+----------+----------+--------------+\n",
      "|      0|       882|      page|      main|1628200239|          null|\n",
      "|      0|       882|     event|      main|1628200525|          null|\n",
      "|      0|       882|     event|      main|1628201547|          null|\n",
      "|      0|       882|      page|   tariffs|1628201756|          null|\n",
      "|      0|       882|     event|   tariffs|1628201860|          null|\n",
      "|      0|       882|      page|   digital|1628201910|          null|\n",
      "|      0|       882|      page|      main|1628231061|          null|\n",
      "|      0|       882|     event|      main|1628231147|          null|\n",
      "|      0|       882|      page|      news|1628231334|          null|\n",
      "|      0|       882|      page|      main|1628244073|          null|\n",
      "|      0|       882|     event|      main|1628245072|          null|\n",
      "|      0|       882|     event|      main|1628245325|          null|\n",
      "|      0|       882|     event|      main|1628245470|          null|\n",
      "|      0|       882|     event|      main|1628245588|          null|\n",
      "|      0|       882|     event|      main|1628246616|          null|\n",
      "|      0|       882|     event|      main|1628246773|          null|\n",
      "|      0|       882|      page|   tariffs|1628247321|          null|\n",
      "|      0|       882|     event|   tariffs|1628247611|          null|\n",
      "|      0|       882|      page|   digital|1628248028|          null|\n",
      "|      0|       882|      page|   archive|1628248153|          null|\n",
      "+-------+----------+----------+----------+----------+--------------+\n",
      "only showing top 20 rows\n",
      "\n"
     ]
    }
   ],
   "source": [
    "df5.show()"
   ]
  },
  {
   "cell_type": "code",
   "execution_count": 15,
   "metadata": {
    "collapsed": false
   },
   "outputs": [],
   "source": [
    "cond2 = (col(\"timestamp\") < col(\"min(timestamp)\")) | (col(\"min(timestamp)\").isNull())\n",
    "df6 = df5.filter(cond2)"
   ]
  },
  {
   "cell_type": "code",
   "execution_count": 16,
   "metadata": {
    "collapsed": false
   },
   "outputs": [],
   "source": [
    "df7 = df6.filter(col(\"event_type\") == \"page\")"
   ]
  },
  {
   "cell_type": "code",
   "execution_count": 17,
   "metadata": {
    "collapsed": false,
    "scrolled": false
   },
   "outputs": [
    {
     "name": "stdout",
     "output_type": "stream",
     "text": [
      "+-------+----------+----------+----------+----------+--------------+\n",
      "|user_id|session_id|event_type|event_page| timestamp|min(timestamp)|\n",
      "+-------+----------+----------+----------+----------+--------------+\n",
      "|      0|       882|      page|      main|1628200239|          null|\n",
      "|      0|       882|      page|   tariffs|1628201756|          null|\n",
      "|      0|       882|      page|   digital|1628201910|          null|\n",
      "|      0|       882|      page|      main|1628231061|          null|\n",
      "|      0|       882|      page|      news|1628231334|          null|\n",
      "|      0|       882|      page|      main|1628244073|          null|\n",
      "|      0|       882|      page|   tariffs|1628247321|          null|\n",
      "|      0|       882|      page|   digital|1628248028|          null|\n",
      "|      0|       882|      page|   archive|1628248153|          null|\n",
      "|      0|       882|      page|      main|1628249336|          null|\n",
      "|      1|      1135|      page|      main|1628725420|          null|\n",
      "|      1|      1135|      page|   archive|1628729192|          null|\n",
      "|     10|      1224|      page|      main|1627460464|          null|\n",
      "|     10|      1224|      page|      news|1627460555|          null|\n",
      "|     10|      1224|      page|     bonus|1627462725|          null|\n",
      "|     10|      1501|      page|      main|1631530213|          null|\n",
      "|     10|      1501|      page|   digital|1631530483|          null|\n",
      "|     10|      2151|      page|      main|1644956957|    1645007103|\n",
      "|     10|      2151|      page|   digital|1644959006|    1645007103|\n",
      "|     10|      2151|      page|   tariffs|1644960248|    1645007103|\n",
      "+-------+----------+----------+----------+----------+--------------+\n",
      "only showing top 20 rows\n",
      "\n"
     ]
    }
   ],
   "source": [
    "df7.show()"
   ]
  },
  {
   "cell_type": "code",
   "execution_count": 18,
   "metadata": {
    "collapsed": false
   },
   "outputs": [],
   "source": [
    "df8 = df7.groupBy(\"user_id\", \"session_id\").agg(F.collect_list(\"event_page\"))"
   ]
  },
  {
   "cell_type": "code",
   "execution_count": 19,
   "metadata": {
    "collapsed": false,
    "scrolled": false
   },
   "outputs": [
    {
     "name": "stdout",
     "output_type": "stream",
     "text": [
      "+-------+----------+------------------------+\n",
      "|user_id|session_id|collect_list(event_page)|\n",
      "+-------+----------+------------------------+\n",
      "|      0|       882|    [main, tariffs, d...|\n",
      "|      1|      1135|         [main, archive]|\n",
      "|     10|      1224|     [main, news, bonus]|\n",
      "|     10|      1501|         [main, digital]|\n",
      "|     10|      2151|    [main, digital, t...|\n",
      "|    100|      2006|          [main, family]|\n",
      "|    101|      1121|    [main, family, ar...|\n",
      "|    101|      1407|    [main, family, ar...|\n",
      "|    103|       552|          [main, family]|\n",
      "|    104|      1343|    [main, news, bonu...|\n",
      "|    104|       616|    [main, tariffs, m...|\n",
      "|    105|      1341|    [main, archive, f...|\n",
      "|    105|       715|                  [main]|\n",
      "|    106|       916|                  [main]|\n",
      "|    107|       520|    [main, digital, n...|\n",
      "|    108|       329|    [main, digital, t...|\n",
      "|     11|      1598|                  [main]|\n",
      "|     11|      2114|                  [main]|\n",
      "|    112|      1173|    [main, digital, a...|\n",
      "|    115|      1261|    [main, news, bonu...|\n",
      "+-------+----------+------------------------+\n",
      "only showing top 20 rows\n",
      "\n"
     ]
    }
   ],
   "source": [
    "df8.show()"
   ]
  },
  {
   "cell_type": "code",
   "execution_count": 20,
   "metadata": {
    "collapsed": true
   },
   "outputs": [],
   "source": [
    "df9 = df8.groupby(\"collect_list(event_page)\").count()"
   ]
  },
  {
   "cell_type": "code",
   "execution_count": 21,
   "metadata": {
    "collapsed": false
   },
   "outputs": [
    {
     "name": "stdout",
     "output_type": "stream",
     "text": [
      "+------------------------+-----+\n",
      "|collect_list(event_page)|count|\n",
      "+------------------------+-----+\n",
      "|           [main, bonus]| 3491|\n",
      "|    [main, archive, d...|    1|\n",
      "|    [main, news, arch...|    3|\n",
      "|    [main, archive, f...|   16|\n",
      "|    [main, family, di...|    1|\n",
      "|    [main, digital, b...|    1|\n",
      "|    [main, news, main...|    1|\n",
      "|    [main, news, digi...|    1|\n",
      "|    [main, archive, t...|    1|\n",
      "|    [main, tariffs, n...|    1|\n",
      "|    [main, archive, d...|    1|\n",
      "|    [main, tariffs, f...|    1|\n",
      "|    [main, family, ar...|    1|\n",
      "|    [main, tariffs, a...|    1|\n",
      "|    [main, family, ne...|    1|\n",
      "|    [main, tariffs, b...|    1|\n",
      "|    [main, bonus, new...|    1|\n",
      "|    [main, bonus, dig...|    1|\n",
      "|    [main, family, ma...|    1|\n",
      "|    [main, digital, b...|    1|\n",
      "+------------------------+-----+\n",
      "only showing top 20 rows\n",
      "\n"
     ]
    }
   ],
   "source": [
    "df9.show()"
   ]
  },
  {
   "cell_type": "code",
   "execution_count": 22,
   "metadata": {
    "collapsed": false,
    "scrolled": true
   },
   "outputs": [
    {
     "name": "stdout",
     "output_type": "stream",
     "text": [
      "+------------------------+-----+\n",
      "|collect_list(event_page)|count|\n",
      "+------------------------+-----+\n",
      "|                  [main]|39256|\n",
      "|         [main, tariffs]| 6523|\n",
      "|            [main, news]| 6260|\n",
      "|         [main, archive]| 5834|\n",
      "|          [main, family]| 4854|\n",
      "|         [main, digital]| 4212|\n",
      "|           [main, bonus]| 3485|\n",
      "|    [main, tariffs, n...| 1184|\n",
      "|    [main, news, tari...| 1131|\n",
      "|    [main, tariffs, a...| 1032|\n",
      "|    [main, news, arch...|  995|\n",
      "|    [main, archive, n...|  993|\n",
      "|    [main, archive, t...|  989|\n",
      "|    [main, family, ta...|  919|\n",
      "|    [main, news, family]|  913|\n",
      "|    [main, tariffs, f...|  910|\n",
      "|    [main, family, news]|  877|\n",
      "|    [main, archive, f...|  816|\n",
      "|    [main, news, digi...|  794|\n",
      "|    [main, family, ar...|  769|\n",
      "|    [main, tariffs, m...|  760|\n",
      "|    [main, tariffs, d...|  748|\n",
      "|    [main, digital, n...|  744|\n",
      "|    [main, digital, t...|  720|\n",
      "|    [main, archive, d...|  718|\n",
      "|         [main, spravka]|  707|\n",
      "|      [main, news, main]|  681|\n",
      "|    [main, digital, a...|  681|\n",
      "|    [main, tariffs, b...|  665|\n",
      "|    [main, archive, m...|  616|\n",
      "+------------------------+-----+\n",
      "only showing top 30 rows\n",
      "\n"
     ]
    }
   ],
   "source": [
    "df9.sort(col(\"count\").desc()).show(30)"
   ]
  },
  {
   "cell_type": "code",
   "execution_count": 25,
   "metadata": {
    "collapsed": true
   },
   "outputs": [],
   "source": [
    "df9 = df9.orderBy('count', ascending=False)"
   ]
  },
  {
   "cell_type": "code",
   "execution_count": 23,
   "metadata": {
    "collapsed": false
   },
   "outputs": [
    {
     "name": "stdout",
     "output_type": "stream",
     "text": [
      "+------------------------+-----+\n",
      "|collect_list(event_page)|count|\n",
      "+------------------------+-----+\n",
      "|                  [main]|39256|\n",
      "|         [main, tariffs]| 6519|\n",
      "|            [main, news]| 6257|\n",
      "|         [main, archive]| 5835|\n",
      "|          [main, family]| 4854|\n",
      "|         [main, digital]| 4212|\n",
      "|           [main, bonus]| 3486|\n",
      "|    [main, tariffs, n...| 1185|\n",
      "|    [main, news, tari...| 1129|\n",
      "|    [main, tariffs, a...| 1032|\n",
      "|    [main, news, arch...|  996|\n",
      "|    [main, archive, n...|  994|\n",
      "|    [main, archive, t...|  990|\n",
      "|    [main, family, ta...|  916|\n",
      "|    [main, news, family]|  912|\n",
      "|    [main, tariffs, f...|  911|\n",
      "|    [main, family, news]|  877|\n",
      "|    [main, archive, f...|  815|\n",
      "|    [main, news, digi...|  793|\n",
      "|    [main, family, ar...|  770|\n",
      "|    [main, tariffs, m...|  763|\n",
      "|    [main, tariffs, d...|  749|\n",
      "|    [main, digital, n...|  743|\n",
      "|    [main, digital, t...|  719|\n",
      "|    [main, archive, d...|  718|\n",
      "|         [main, spravka]|  705|\n",
      "|      [main, news, main]|  683|\n",
      "|    [main, digital, a...|  680|\n",
      "|    [main, tariffs, b...|  664|\n",
      "|    [main, archive, m...|  621|\n",
      "+------------------------+-----+\n",
      "only showing top 30 rows\n",
      "\n"
     ]
    }
   ],
   "source": [
    "df9.show(30)"
   ]
  },
  {
   "cell_type": "code",
   "execution_count": 26,
   "metadata": {
    "collapsed": false
   },
   "outputs": [],
   "source": [
    "ans3 = df9.take(30)"
   ]
  },
  {
   "cell_type": "code",
   "execution_count": 29,
   "metadata": {
    "collapsed": false
   },
   "outputs": [],
   "source": [
    "string = ''\n",
    "for content in ans3:\n",
    "    string += '%s\\t%s\\n' % (content[0], content[1])"
   ]
  },
  {
   "cell_type": "code",
   "execution_count": 33,
   "metadata": {
    "collapsed": false
   },
   "outputs": [
    {
     "name": "stdout",
     "output_type": "stream",
     "text": [
      "[u'main']\t39256\n",
      "[u'main', u'tariffs']\t6522\n",
      "[u'main', u'news']\t6263\n",
      "[u'main', u'archive']\t5832\n",
      "[u'main', u'family']\t4852\n",
      "[u'main', u'digital']\t4214\n",
      "[u'main', u'bonus']\t3484\n",
      "[u'main', u'tariffs', u'news']\t1186\n",
      "[u'main', u'news', u'tariffs']\t1129\n",
      "[u'main', u'tariffs', u'archive']\t1032\n",
      "[u'main', u'news', u'archive']\t998\n",
      "[u'main', u'archive', u'news']\t993\n",
      "[u'main', u'archive', u'tariffs']\t991\n",
      "[u'main', u'family', u'tariffs']\t919\n",
      "[u'main', u'news', u'family']\t913\n",
      "[u'main', u'tariffs', u'family']\t911\n",
      "[u'main', u'family', u'news']\t878\n",
      "[u'main', u'archive', u'family']\t817\n",
      "[u'main', u'news', u'digital']\t793\n",
      "[u'main', u'family', u'archive']\t769\n",
      "[u'main', u'tariffs', u'main']\t759\n",
      "[u'main', u'tariffs', u'digital']\t747\n",
      "[u'main', u'digital', u'news']\t745\n",
      "[u'main', u'digital', u'tariffs']\t720\n",
      "[u'main', u'archive', u'digital']\t718\n",
      "[u'main', u'spravka']\t705\n",
      "[u'main', u'news', u'main']\t684\n",
      "[u'main', u'digital', u'archive']\t680\n",
      "[u'main', u'tariffs', u'bonus']\t666\n",
      "[u'main', u'archive', u'main']\t622\n",
      "\n"
     ]
    }
   ],
   "source": [
    "print(string)"
   ]
  },
  {
   "cell_type": "code",
   "execution_count": 34,
   "metadata": {
    "collapsed": true
   },
   "outputs": [],
   "source": [
    "with open('week6_ans3_sang.tsv', 'w') as f:\n",
    "    f.write(string)"
   ]
  },
  {
   "cell_type": "code",
   "execution_count": null,
   "metadata": {
    "collapsed": true
   },
   "outputs": [],
   "source": []
  }
 ],
 "metadata": {
  "kernelspec": {
   "display_name": "Python 2",
   "language": "python",
   "name": "python2"
  },
  "language_info": {
   "codemirror_mode": {
    "name": "ipython",
    "version": 2
   },
   "file_extension": ".py",
   "mimetype": "text/x-python",
   "name": "python",
   "nbconvert_exporter": "python",
   "pygments_lexer": "ipython2",
   "version": "2.7.11"
  }
 },
 "nbformat": 4,
 "nbformat_minor": 2
}
